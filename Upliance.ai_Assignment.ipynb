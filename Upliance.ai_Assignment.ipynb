{
 "cells": [
  {
   "cell_type": "markdown",
   "id": "01a66f5d-c026-4985-a5c5-9e1cb9c1075f",
   "metadata": {},
   "source": [
    "## Upliance.ai Assignment_Submission [Duraiprasanth Sekar]\n",
    "\n",
    "    Upliance.ai is reshaping the way India cooks with the country’s first AI-powered cooking assistant. Designed for beginners, it simplifies and automates every step of the process, making it easier than ever to cook for yourself. We’re on a mission to redefine home appliances for young India by combining cutting-edge AI technology with everyday convenience. Partnering with industry leaders like OpenAI, we take pride in building innovative and practical solutions that bring a little magic into the kitchen.\n",
    "\n",
    "    This analysis explores how user demographics—like age and location—impact key metrics such as revenue, session ratings, and engagement. By uncovering spending patterns and identifying high-performing groups, we aim to provide actionable insights to boost customer satisfaction and drive growth."
   ]
  },
  {
   "cell_type": "markdown",
   "id": "3bfd3dbd-4628-4390-bcae-2b85b1c79237",
   "metadata": {},
   "source": [
    "## Data Cleaning and Preprocessing"
   ]
  },
  {
   "cell_type": "code",
   "execution_count": 1,
   "id": "997ed36e-0d71-4d2f-aa25-51b0dfce2e20",
   "metadata": {},
   "outputs": [],
   "source": [
    "# importing necessary libraries\n",
    "import pandas as pd\n",
    "import matplotlib.pyplot as plt\n",
    "import numpy as np\n",
    "import openpyxl \n",
    "import seaborn as sns"
   ]
  },
  {
   "cell_type": "code",
   "execution_count": 2,
   "id": "09feffa8-2c33-49f2-9ef9-a8f296f978a8",
   "metadata": {},
   "outputs": [
    {
     "name": "stdout",
     "output_type": "stream",
     "text": [
      "Sheet Names: ['UserDetails.csv', 'CookingSessions.csv', 'OrderDetails.csv']\n"
     ]
    }
   ],
   "source": [
    "#importing the file\n",
    "\n",
    "up_data = pd.read_excel(\"D:\\\\Upliance.ai\\\\Data Analyst Intern Assignment - Excel.xlsx\", engine ='openpyxl')\n",
    "\n",
    "sheet_names = pd.ExcelFile(\"D:\\\\Upliance.ai\\\\Data Analyst Intern Assignment - Excel.xlsx\").sheet_names\n",
    "print(\"Sheet Names:\", sheet_names)"
   ]
  },
  {
   "cell_type": "code",
   "execution_count": 3,
   "id": "8d6a499f-13c7-41e5-8f09-bbbf2a917fc5",
   "metadata": {},
   "outputs": [
    {
     "name": "stdout",
     "output_type": "stream",
     "text": [
      "Order Details:\n"
     ]
    },
    {
     "data": {
      "text/html": [
       "<div>\n",
       "<style scoped>\n",
       "    .dataframe tbody tr th:only-of-type {\n",
       "        vertical-align: middle;\n",
       "    }\n",
       "\n",
       "    .dataframe tbody tr th {\n",
       "        vertical-align: top;\n",
       "    }\n",
       "\n",
       "    .dataframe thead th {\n",
       "        text-align: right;\n",
       "    }\n",
       "</style>\n",
       "<table border=\"1\" class=\"dataframe\">\n",
       "  <thead>\n",
       "    <tr style=\"text-align: right;\">\n",
       "      <th></th>\n",
       "      <th>Order ID</th>\n",
       "      <th>User ID</th>\n",
       "      <th>Order Date</th>\n",
       "      <th>Meal Type</th>\n",
       "      <th>Dish Name</th>\n",
       "      <th>Order Status</th>\n",
       "      <th>Amount (USD)</th>\n",
       "      <th>Time of Day</th>\n",
       "      <th>Rating</th>\n",
       "      <th>Session ID</th>\n",
       "    </tr>\n",
       "  </thead>\n",
       "  <tbody>\n",
       "    <tr>\n",
       "      <th>0</th>\n",
       "      <td>1001</td>\n",
       "      <td>U001</td>\n",
       "      <td>2024-12-01</td>\n",
       "      <td>Dinner</td>\n",
       "      <td>Spaghetti</td>\n",
       "      <td>Completed</td>\n",
       "      <td>15.0</td>\n",
       "      <td>Night</td>\n",
       "      <td>5.0</td>\n",
       "      <td>S001</td>\n",
       "    </tr>\n",
       "    <tr>\n",
       "      <th>1</th>\n",
       "      <td>1002</td>\n",
       "      <td>U002</td>\n",
       "      <td>2024-12-01</td>\n",
       "      <td>Lunch</td>\n",
       "      <td>Caesar Salad</td>\n",
       "      <td>Completed</td>\n",
       "      <td>10.0</td>\n",
       "      <td>Day</td>\n",
       "      <td>4.0</td>\n",
       "      <td>S002</td>\n",
       "    </tr>\n",
       "  </tbody>\n",
       "</table>\n",
       "</div>"
      ],
      "text/plain": [
       "   Order ID User ID Order Date Meal Type     Dish Name Order Status  \\\n",
       "0      1001    U001 2024-12-01    Dinner     Spaghetti    Completed   \n",
       "1      1002    U002 2024-12-01     Lunch  Caesar Salad    Completed   \n",
       "\n",
       "   Amount (USD) Time of Day  Rating Session ID  \n",
       "0          15.0       Night     5.0       S001  \n",
       "1          10.0         Day     4.0       S002  "
      ]
     },
     "execution_count": 3,
     "metadata": {},
     "output_type": "execute_result"
    }
   ],
   "source": [
    "order_details = pd.read_excel(\"D:\\\\Upliance.ai\\\\Data Analyst Intern Assignment - Excel.xlsx\", sheet_name = \"OrderDetails.csv\")\n",
    "\n",
    "print(\"Order Details:\") \n",
    "order_details.head(2)"
   ]
  },
  {
   "cell_type": "code",
   "execution_count": 4,
   "id": "b46dd10e-471a-42c4-b475-778544f42e77",
   "metadata": {},
   "outputs": [
    {
     "name": "stdout",
     "output_type": "stream",
     "text": [
      "<class 'pandas.core.frame.DataFrame'>\n",
      "RangeIndex: 16 entries, 0 to 15\n",
      "Data columns (total 10 columns):\n",
      " #   Column        Non-Null Count  Dtype         \n",
      "---  ------        --------------  -----         \n",
      " 0   Order ID      16 non-null     int64         \n",
      " 1   User ID       16 non-null     object        \n",
      " 2   Order Date    16 non-null     datetime64[ns]\n",
      " 3   Meal Type     16 non-null     object        \n",
      " 4   Dish Name     16 non-null     object        \n",
      " 5   Order Status  16 non-null     object        \n",
      " 6   Amount (USD)  16 non-null     float64       \n",
      " 7   Time of Day   16 non-null     object        \n",
      " 8   Rating        14 non-null     float64       \n",
      " 9   Session ID    16 non-null     object        \n",
      "dtypes: datetime64[ns](1), float64(2), int64(1), object(6)\n",
      "memory usage: 1.4+ KB\n"
     ]
    }
   ],
   "source": [
    "order_details.info()"
   ]
  },
  {
   "cell_type": "code",
   "execution_count": 5,
   "id": "eb78ffcc-498d-402c-bbd6-aca890e52804",
   "metadata": {},
   "outputs": [
    {
     "data": {
      "text/html": [
       "<div>\n",
       "<style scoped>\n",
       "    .dataframe tbody tr th:only-of-type {\n",
       "        vertical-align: middle;\n",
       "    }\n",
       "\n",
       "    .dataframe tbody tr th {\n",
       "        vertical-align: top;\n",
       "    }\n",
       "\n",
       "    .dataframe thead th {\n",
       "        text-align: right;\n",
       "    }\n",
       "</style>\n",
       "<table border=\"1\" class=\"dataframe\">\n",
       "  <thead>\n",
       "    <tr style=\"text-align: right;\">\n",
       "      <th></th>\n",
       "      <th>Order ID</th>\n",
       "      <th>Order Date</th>\n",
       "      <th>Amount (USD)</th>\n",
       "      <th>Rating</th>\n",
       "    </tr>\n",
       "  </thead>\n",
       "  <tbody>\n",
       "    <tr>\n",
       "      <th>count</th>\n",
       "      <td>16.000000</td>\n",
       "      <td>16</td>\n",
       "      <td>16.000000</td>\n",
       "      <td>14.000000</td>\n",
       "    </tr>\n",
       "    <tr>\n",
       "      <th>mean</th>\n",
       "      <td>1008.500000</td>\n",
       "      <td>2024-12-04 12:00:00</td>\n",
       "      <td>11.250000</td>\n",
       "      <td>4.285714</td>\n",
       "    </tr>\n",
       "    <tr>\n",
       "      <th>min</th>\n",
       "      <td>1001.000000</td>\n",
       "      <td>2024-12-01 00:00:00</td>\n",
       "      <td>7.000000</td>\n",
       "      <td>4.000000</td>\n",
       "    </tr>\n",
       "    <tr>\n",
       "      <th>25%</th>\n",
       "      <td>1004.750000</td>\n",
       "      <td>2024-12-02 18:00:00</td>\n",
       "      <td>9.000000</td>\n",
       "      <td>4.000000</td>\n",
       "    </tr>\n",
       "    <tr>\n",
       "      <th>50%</th>\n",
       "      <td>1008.500000</td>\n",
       "      <td>2024-12-04 12:00:00</td>\n",
       "      <td>11.500000</td>\n",
       "      <td>4.000000</td>\n",
       "    </tr>\n",
       "    <tr>\n",
       "      <th>75%</th>\n",
       "      <td>1012.250000</td>\n",
       "      <td>2024-12-06 06:00:00</td>\n",
       "      <td>13.125000</td>\n",
       "      <td>4.750000</td>\n",
       "    </tr>\n",
       "    <tr>\n",
       "      <th>max</th>\n",
       "      <td>1016.000000</td>\n",
       "      <td>2024-12-08 00:00:00</td>\n",
       "      <td>15.000000</td>\n",
       "      <td>5.000000</td>\n",
       "    </tr>\n",
       "    <tr>\n",
       "      <th>std</th>\n",
       "      <td>4.760952</td>\n",
       "      <td>NaN</td>\n",
       "      <td>2.435843</td>\n",
       "      <td>0.468807</td>\n",
       "    </tr>\n",
       "  </tbody>\n",
       "</table>\n",
       "</div>"
      ],
      "text/plain": [
       "          Order ID           Order Date  Amount (USD)     Rating\n",
       "count    16.000000                   16     16.000000  14.000000\n",
       "mean   1008.500000  2024-12-04 12:00:00     11.250000   4.285714\n",
       "min    1001.000000  2024-12-01 00:00:00      7.000000   4.000000\n",
       "25%    1004.750000  2024-12-02 18:00:00      9.000000   4.000000\n",
       "50%    1008.500000  2024-12-04 12:00:00     11.500000   4.000000\n",
       "75%    1012.250000  2024-12-06 06:00:00     13.125000   4.750000\n",
       "max    1016.000000  2024-12-08 00:00:00     15.000000   5.000000\n",
       "std       4.760952                  NaN      2.435843   0.468807"
      ]
     },
     "execution_count": 5,
     "metadata": {},
     "output_type": "execute_result"
    }
   ],
   "source": [
    "order_details.describe()"
   ]
  },
  {
   "cell_type": "code",
   "execution_count": 6,
   "id": "d4f91cc6-02cd-4b6e-82b5-4b79ea35d1fa",
   "metadata": {},
   "outputs": [
    {
     "name": "stdout",
     "output_type": "stream",
     "text": [
      "Cooking Sessions:\n"
     ]
    },
    {
     "data": {
      "text/html": [
       "<div>\n",
       "<style scoped>\n",
       "    .dataframe tbody tr th:only-of-type {\n",
       "        vertical-align: middle;\n",
       "    }\n",
       "\n",
       "    .dataframe tbody tr th {\n",
       "        vertical-align: top;\n",
       "    }\n",
       "\n",
       "    .dataframe thead th {\n",
       "        text-align: right;\n",
       "    }\n",
       "</style>\n",
       "<table border=\"1\" class=\"dataframe\">\n",
       "  <thead>\n",
       "    <tr style=\"text-align: right;\">\n",
       "      <th></th>\n",
       "      <th>Session ID</th>\n",
       "      <th>User ID</th>\n",
       "      <th>Dish Name</th>\n",
       "      <th>Meal Type</th>\n",
       "      <th>Session Start</th>\n",
       "      <th>Session End</th>\n",
       "      <th>Duration (mins)</th>\n",
       "      <th>Session Rating</th>\n",
       "    </tr>\n",
       "  </thead>\n",
       "  <tbody>\n",
       "    <tr>\n",
       "      <th>0</th>\n",
       "      <td>S001</td>\n",
       "      <td>U001</td>\n",
       "      <td>Spaghetti</td>\n",
       "      <td>Dinner</td>\n",
       "      <td>2024-12-01 19:00:00</td>\n",
       "      <td>2024-12-01 19:30:00</td>\n",
       "      <td>30</td>\n",
       "      <td>4.5</td>\n",
       "    </tr>\n",
       "    <tr>\n",
       "      <th>1</th>\n",
       "      <td>S002</td>\n",
       "      <td>U002</td>\n",
       "      <td>Caesar Salad</td>\n",
       "      <td>Lunch</td>\n",
       "      <td>2024-12-01 12:00:00</td>\n",
       "      <td>2024-12-01 12:20:00</td>\n",
       "      <td>20</td>\n",
       "      <td>4.0</td>\n",
       "    </tr>\n",
       "  </tbody>\n",
       "</table>\n",
       "</div>"
      ],
      "text/plain": [
       "  Session ID User ID     Dish Name Meal Type       Session Start  \\\n",
       "0       S001    U001     Spaghetti    Dinner 2024-12-01 19:00:00   \n",
       "1       S002    U002  Caesar Salad     Lunch 2024-12-01 12:00:00   \n",
       "\n",
       "          Session End  Duration (mins)  Session Rating  \n",
       "0 2024-12-01 19:30:00               30             4.5  \n",
       "1 2024-12-01 12:20:00               20             4.0  "
      ]
     },
     "execution_count": 6,
     "metadata": {},
     "output_type": "execute_result"
    }
   ],
   "source": [
    "cooking_sessions = pd.read_excel(\"D:\\\\Upliance.ai\\\\Data Analyst Intern Assignment - Excel.xlsx\", sheet_name = \"CookingSessions.csv\")\n",
    "print(\"Cooking Sessions:\")\n",
    "cooking_sessions.head(2)"
   ]
  },
  {
   "cell_type": "code",
   "execution_count": 7,
   "id": "631054bf-feef-45cd-bfdc-6cbecfc6553c",
   "metadata": {},
   "outputs": [
    {
     "name": "stdout",
     "output_type": "stream",
     "text": [
      "<class 'pandas.core.frame.DataFrame'>\n",
      "RangeIndex: 16 entries, 0 to 15\n",
      "Data columns (total 8 columns):\n",
      " #   Column           Non-Null Count  Dtype         \n",
      "---  ------           --------------  -----         \n",
      " 0   Session ID       16 non-null     object        \n",
      " 1   User ID          16 non-null     object        \n",
      " 2   Dish Name        16 non-null     object        \n",
      " 3   Meal Type        16 non-null     object        \n",
      " 4   Session Start    16 non-null     datetime64[ns]\n",
      " 5   Session End      16 non-null     datetime64[ns]\n",
      " 6   Duration (mins)  16 non-null     int64         \n",
      " 7   Session Rating   16 non-null     float64       \n",
      "dtypes: datetime64[ns](2), float64(1), int64(1), object(4)\n",
      "memory usage: 1.1+ KB\n"
     ]
    }
   ],
   "source": [
    "cooking_sessions.info()"
   ]
  },
  {
   "cell_type": "code",
   "execution_count": 8,
   "id": "1cae4a88-6f83-4356-86ee-5415f481a89a",
   "metadata": {},
   "outputs": [
    {
     "name": "stdout",
     "output_type": "stream",
     "text": [
      "User Details:\n"
     ]
    },
    {
     "data": {
      "text/html": [
       "<div>\n",
       "<style scoped>\n",
       "    .dataframe tbody tr th:only-of-type {\n",
       "        vertical-align: middle;\n",
       "    }\n",
       "\n",
       "    .dataframe tbody tr th {\n",
       "        vertical-align: top;\n",
       "    }\n",
       "\n",
       "    .dataframe thead th {\n",
       "        text-align: right;\n",
       "    }\n",
       "</style>\n",
       "<table border=\"1\" class=\"dataframe\">\n",
       "  <thead>\n",
       "    <tr style=\"text-align: right;\">\n",
       "      <th></th>\n",
       "      <th>User ID</th>\n",
       "      <th>User Name</th>\n",
       "      <th>Age</th>\n",
       "      <th>Location</th>\n",
       "      <th>Registration Date</th>\n",
       "      <th>Phone</th>\n",
       "      <th>Email</th>\n",
       "      <th>Favorite Meal</th>\n",
       "      <th>Total Orders</th>\n",
       "    </tr>\n",
       "  </thead>\n",
       "  <tbody>\n",
       "    <tr>\n",
       "      <th>0</th>\n",
       "      <td>U001</td>\n",
       "      <td>Alice Johnson</td>\n",
       "      <td>28</td>\n",
       "      <td>New York</td>\n",
       "      <td>2023-01-15</td>\n",
       "      <td>123-456-7890</td>\n",
       "      <td>alice@email.com</td>\n",
       "      <td>Dinner</td>\n",
       "      <td>12</td>\n",
       "    </tr>\n",
       "    <tr>\n",
       "      <th>1</th>\n",
       "      <td>U002</td>\n",
       "      <td>Bob Smith</td>\n",
       "      <td>35</td>\n",
       "      <td>Los Angeles</td>\n",
       "      <td>2023-02-20</td>\n",
       "      <td>987-654-3210</td>\n",
       "      <td>bob@email.com</td>\n",
       "      <td>Lunch</td>\n",
       "      <td>8</td>\n",
       "    </tr>\n",
       "  </tbody>\n",
       "</table>\n",
       "</div>"
      ],
      "text/plain": [
       "  User ID      User Name  Age     Location Registration Date         Phone  \\\n",
       "0    U001  Alice Johnson   28     New York        2023-01-15  123-456-7890   \n",
       "1    U002      Bob Smith   35  Los Angeles        2023-02-20  987-654-3210   \n",
       "\n",
       "             Email Favorite Meal  Total Orders  \n",
       "0  alice@email.com        Dinner            12  \n",
       "1    bob@email.com         Lunch             8  "
      ]
     },
     "execution_count": 8,
     "metadata": {},
     "output_type": "execute_result"
    }
   ],
   "source": [
    "user_details = pd.read_excel(\"D:\\\\Upliance.ai\\\\Data Analyst Intern Assignment - Excel.xlsx\", sheet_name = \"UserDetails.csv\")\n",
    "print(\"User Details:\")\n",
    "user_details.head(2)"
   ]
  },
  {
   "cell_type": "code",
   "execution_count": 9,
   "id": "88eb8bf0-354b-47a1-957d-ac3829fd7cbd",
   "metadata": {},
   "outputs": [
    {
     "name": "stdout",
     "output_type": "stream",
     "text": [
      "<class 'pandas.core.frame.DataFrame'>\n",
      "RangeIndex: 10 entries, 0 to 9\n",
      "Data columns (total 9 columns):\n",
      " #   Column             Non-Null Count  Dtype         \n",
      "---  ------             --------------  -----         \n",
      " 0   User ID            10 non-null     object        \n",
      " 1   User Name          10 non-null     object        \n",
      " 2   Age                10 non-null     int64         \n",
      " 3   Location           10 non-null     object        \n",
      " 4   Registration Date  10 non-null     datetime64[ns]\n",
      " 5   Phone              10 non-null     object        \n",
      " 6   Email              10 non-null     object        \n",
      " 7   Favorite Meal      10 non-null     object        \n",
      " 8   Total Orders       10 non-null     int64         \n",
      "dtypes: datetime64[ns](1), int64(2), object(6)\n",
      "memory usage: 848.0+ bytes\n"
     ]
    }
   ],
   "source": [
    "user_details.info()"
   ]
  },
  {
   "cell_type": "markdown",
   "id": "24c96449-57a5-49c1-ae0d-83171a729039",
   "metadata": {},
   "source": [
    "## Data cleaning and merging"
   ]
  },
  {
   "cell_type": "code",
   "execution_count": 10,
   "id": "e4ff261f-7ec8-4195-b7ce-c79ddb15b93e",
   "metadata": {},
   "outputs": [
    {
     "name": "stdout",
     "output_type": "stream",
     "text": [
      "0\n",
      "0\n",
      "0\n"
     ]
    }
   ],
   "source": [
    "print(user_details.duplicated().sum())\n",
    "print(cooking_sessions.duplicated().sum())\n",
    "print(order_details.duplicated().sum())\n"
   ]
  },
  {
   "cell_type": "code",
   "execution_count": 11,
   "id": "e726520c-1b43-4d3d-b900-376791639e9e",
   "metadata": {},
   "outputs": [
    {
     "name": "stdout",
     "output_type": "stream",
     "text": [
      "User ID              0\n",
      "User Name            0\n",
      "Age                  0\n",
      "Location             0\n",
      "Registration Date    0\n",
      "Phone                0\n",
      "Email                0\n",
      "Favorite Meal        0\n",
      "Total Orders         0\n",
      "dtype: int64\n",
      "Session ID         0\n",
      "User ID            0\n",
      "Dish Name          0\n",
      "Meal Type          0\n",
      "Session Start      0\n",
      "Session End        0\n",
      "Duration (mins)    0\n",
      "Session Rating     0\n",
      "dtype: int64\n",
      "Order ID        0\n",
      "User ID         0\n",
      "Order Date      0\n",
      "Meal Type       0\n",
      "Dish Name       0\n",
      "Order Status    0\n",
      "Amount (USD)    0\n",
      "Time of Day     0\n",
      "Rating          2\n",
      "Session ID      0\n",
      "dtype: int64\n"
     ]
    }
   ],
   "source": [
    "# Check for missing values\n",
    "print(user_details.isnull().sum())\n",
    "print(cooking_sessions.isnull().sum())\n",
    "print(order_details.isnull().sum())\n",
    "# since rating is only having null values, it can be neglected"
   ]
  },
  {
   "cell_type": "code",
   "execution_count": 12,
   "id": "1428d749-c47a-44ab-8b01-1b4b003d5616",
   "metadata": {},
   "outputs": [],
   "source": [
    "# Replacing the User ID to avoid confusions while merging because both order and user details have same USER ID\n",
    "order_details.rename(columns={'User ID': 'Order_User_ID'}, inplace=True)\n",
    "user_details.rename(columns={'User ID': 'User_User_ID'}, inplace=True)"
   ]
  },
  {
   "cell_type": "code",
   "execution_count": 13,
   "id": "6a5ee79f-41d7-4059-91f8-21f2319f250f",
   "metadata": {},
   "outputs": [
    {
     "data": {
      "text/html": [
       "<div>\n",
       "<style scoped>\n",
       "    .dataframe tbody tr th:only-of-type {\n",
       "        vertical-align: middle;\n",
       "    }\n",
       "\n",
       "    .dataframe tbody tr th {\n",
       "        vertical-align: top;\n",
       "    }\n",
       "\n",
       "    .dataframe thead th {\n",
       "        text-align: right;\n",
       "    }\n",
       "</style>\n",
       "<table border=\"1\" class=\"dataframe\">\n",
       "  <thead>\n",
       "    <tr style=\"text-align: right;\">\n",
       "      <th></th>\n",
       "      <th>Session ID</th>\n",
       "      <th>User ID</th>\n",
       "      <th>Dish Name_x</th>\n",
       "      <th>Meal Type_x</th>\n",
       "      <th>Session Start</th>\n",
       "      <th>Session End</th>\n",
       "      <th>Duration (mins)</th>\n",
       "      <th>Session Rating</th>\n",
       "      <th>Order ID</th>\n",
       "      <th>Order_User_ID</th>\n",
       "      <th>...</th>\n",
       "      <th>Rating</th>\n",
       "      <th>User_User_ID</th>\n",
       "      <th>User Name</th>\n",
       "      <th>Age</th>\n",
       "      <th>Location</th>\n",
       "      <th>Registration Date</th>\n",
       "      <th>Phone</th>\n",
       "      <th>Email</th>\n",
       "      <th>Favorite Meal</th>\n",
       "      <th>Total Orders</th>\n",
       "    </tr>\n",
       "  </thead>\n",
       "  <tbody>\n",
       "    <tr>\n",
       "      <th>0</th>\n",
       "      <td>S001</td>\n",
       "      <td>U001</td>\n",
       "      <td>Spaghetti</td>\n",
       "      <td>Dinner</td>\n",
       "      <td>2024-12-01 19:00:00</td>\n",
       "      <td>2024-12-01 19:30:00</td>\n",
       "      <td>30</td>\n",
       "      <td>4.5</td>\n",
       "      <td>1001</td>\n",
       "      <td>U001</td>\n",
       "      <td>...</td>\n",
       "      <td>5.0</td>\n",
       "      <td>U001</td>\n",
       "      <td>Alice Johnson</td>\n",
       "      <td>28</td>\n",
       "      <td>New York</td>\n",
       "      <td>2023-01-15</td>\n",
       "      <td>123-456-7890</td>\n",
       "      <td>alice@email.com</td>\n",
       "      <td>Dinner</td>\n",
       "      <td>12</td>\n",
       "    </tr>\n",
       "    <tr>\n",
       "      <th>1</th>\n",
       "      <td>S002</td>\n",
       "      <td>U002</td>\n",
       "      <td>Caesar Salad</td>\n",
       "      <td>Lunch</td>\n",
       "      <td>2024-12-01 12:00:00</td>\n",
       "      <td>2024-12-01 12:20:00</td>\n",
       "      <td>20</td>\n",
       "      <td>4.0</td>\n",
       "      <td>1002</td>\n",
       "      <td>U002</td>\n",
       "      <td>...</td>\n",
       "      <td>4.0</td>\n",
       "      <td>U002</td>\n",
       "      <td>Bob Smith</td>\n",
       "      <td>35</td>\n",
       "      <td>Los Angeles</td>\n",
       "      <td>2023-02-20</td>\n",
       "      <td>987-654-3210</td>\n",
       "      <td>bob@email.com</td>\n",
       "      <td>Lunch</td>\n",
       "      <td>8</td>\n",
       "    </tr>\n",
       "  </tbody>\n",
       "</table>\n",
       "<p>2 rows × 26 columns</p>\n",
       "</div>"
      ],
      "text/plain": [
       "  Session ID User ID   Dish Name_x Meal Type_x       Session Start  \\\n",
       "0       S001    U001     Spaghetti      Dinner 2024-12-01 19:00:00   \n",
       "1       S002    U002  Caesar Salad       Lunch 2024-12-01 12:00:00   \n",
       "\n",
       "          Session End  Duration (mins)  Session Rating  Order ID  \\\n",
       "0 2024-12-01 19:30:00               30             4.5      1001   \n",
       "1 2024-12-01 12:20:00               20             4.0      1002   \n",
       "\n",
       "  Order_User_ID  ... Rating User_User_ID      User Name Age     Location  \\\n",
       "0          U001  ...    5.0         U001  Alice Johnson  28     New York   \n",
       "1          U002  ...    4.0         U002      Bob Smith  35  Los Angeles   \n",
       "\n",
       "  Registration Date         Phone            Email Favorite Meal  Total Orders  \n",
       "0        2023-01-15  123-456-7890  alice@email.com        Dinner            12  \n",
       "1        2023-02-20  987-654-3210    bob@email.com         Lunch             8  \n",
       "\n",
       "[2 rows x 26 columns]"
      ]
     },
     "execution_count": 13,
     "metadata": {},
     "output_type": "execute_result"
    }
   ],
   "source": [
    "# merging the datsets\n",
    "merged_data = pd.merge(cooking_sessions, order_details, on = \"Session ID\", how=\"left\")\n",
    "merged_df = pd.merge(merged_data, user_details, left_on = \"User ID\", right_on = \"User_User_ID\", how = \"left\")\n",
    "\n",
    "merged_df.head(2)"
   ]
  },
  {
   "cell_type": "code",
   "execution_count": 14,
   "id": "0a3f706c-dbfb-4e56-8350-1e18251aa7c8",
   "metadata": {},
   "outputs": [
    {
     "data": {
      "text/html": [
       "<div>\n",
       "<style scoped>\n",
       "    .dataframe tbody tr th:only-of-type {\n",
       "        vertical-align: middle;\n",
       "    }\n",
       "\n",
       "    .dataframe tbody tr th {\n",
       "        vertical-align: top;\n",
       "    }\n",
       "\n",
       "    .dataframe thead th {\n",
       "        text-align: right;\n",
       "    }\n",
       "</style>\n",
       "<table border=\"1\" class=\"dataframe\">\n",
       "  <thead>\n",
       "    <tr style=\"text-align: right;\">\n",
       "      <th></th>\n",
       "      <th>Session ID</th>\n",
       "      <th>User ID</th>\n",
       "      <th>Dish Name_x</th>\n",
       "      <th>Meal Type_x</th>\n",
       "      <th>Session Start</th>\n",
       "      <th>Session End</th>\n",
       "      <th>Duration (mins)</th>\n",
       "      <th>Session Rating</th>\n",
       "      <th>Order ID</th>\n",
       "      <th>Order_User_ID</th>\n",
       "      <th>...</th>\n",
       "      <th>Time of Day</th>\n",
       "      <th>Rating</th>\n",
       "      <th>User Name</th>\n",
       "      <th>Age</th>\n",
       "      <th>Location</th>\n",
       "      <th>Registration Date</th>\n",
       "      <th>Phone</th>\n",
       "      <th>Email</th>\n",
       "      <th>Favorite Meal</th>\n",
       "      <th>Total Orders</th>\n",
       "    </tr>\n",
       "  </thead>\n",
       "  <tbody>\n",
       "    <tr>\n",
       "      <th>0</th>\n",
       "      <td>S001</td>\n",
       "      <td>U001</td>\n",
       "      <td>Spaghetti</td>\n",
       "      <td>Dinner</td>\n",
       "      <td>2024-12-01 19:00:00</td>\n",
       "      <td>2024-12-01 19:30:00</td>\n",
       "      <td>30</td>\n",
       "      <td>4.5</td>\n",
       "      <td>1001</td>\n",
       "      <td>U001</td>\n",
       "      <td>...</td>\n",
       "      <td>Night</td>\n",
       "      <td>5.0</td>\n",
       "      <td>Alice Johnson</td>\n",
       "      <td>28</td>\n",
       "      <td>New York</td>\n",
       "      <td>2023-01-15</td>\n",
       "      <td>123-456-7890</td>\n",
       "      <td>alice@email.com</td>\n",
       "      <td>Dinner</td>\n",
       "      <td>12</td>\n",
       "    </tr>\n",
       "    <tr>\n",
       "      <th>1</th>\n",
       "      <td>S002</td>\n",
       "      <td>U002</td>\n",
       "      <td>Caesar Salad</td>\n",
       "      <td>Lunch</td>\n",
       "      <td>2024-12-01 12:00:00</td>\n",
       "      <td>2024-12-01 12:20:00</td>\n",
       "      <td>20</td>\n",
       "      <td>4.0</td>\n",
       "      <td>1002</td>\n",
       "      <td>U002</td>\n",
       "      <td>...</td>\n",
       "      <td>Day</td>\n",
       "      <td>4.0</td>\n",
       "      <td>Bob Smith</td>\n",
       "      <td>35</td>\n",
       "      <td>Los Angeles</td>\n",
       "      <td>2023-02-20</td>\n",
       "      <td>987-654-3210</td>\n",
       "      <td>bob@email.com</td>\n",
       "      <td>Lunch</td>\n",
       "      <td>8</td>\n",
       "    </tr>\n",
       "  </tbody>\n",
       "</table>\n",
       "<p>2 rows × 25 columns</p>\n",
       "</div>"
      ],
      "text/plain": [
       "  Session ID User ID   Dish Name_x Meal Type_x       Session Start  \\\n",
       "0       S001    U001     Spaghetti      Dinner 2024-12-01 19:00:00   \n",
       "1       S002    U002  Caesar Salad       Lunch 2024-12-01 12:00:00   \n",
       "\n",
       "          Session End  Duration (mins)  Session Rating  Order ID  \\\n",
       "0 2024-12-01 19:30:00               30             4.5      1001   \n",
       "1 2024-12-01 12:20:00               20             4.0      1002   \n",
       "\n",
       "  Order_User_ID  ... Time of Day Rating      User Name Age     Location  \\\n",
       "0          U001  ...       Night    5.0  Alice Johnson  28     New York   \n",
       "1          U002  ...         Day    4.0      Bob Smith  35  Los Angeles   \n",
       "\n",
       "  Registration Date         Phone            Email  Favorite Meal Total Orders  \n",
       "0        2023-01-15  123-456-7890  alice@email.com         Dinner           12  \n",
       "1        2023-02-20  987-654-3210    bob@email.com          Lunch            8  \n",
       "\n",
       "[2 rows x 25 columns]"
      ]
     },
     "execution_count": 14,
     "metadata": {},
     "output_type": "execute_result"
    }
   ],
   "source": [
    "merged_df.drop(columns=['User_User_ID'], inplace=True)\n",
    "merged_df.head(2)\n"
   ]
  },
  {
   "cell_type": "markdown",
   "id": "653690f2-1b8f-4231-be91-ba6e72382a1d",
   "metadata": {},
   "source": [
    "## Data Analysis"
   ]
  },
  {
   "cell_type": "code",
   "execution_count": 15,
   "id": "1ca857ff-9f11-4373-8f37-e06774ed2b50",
   "metadata": {},
   "outputs": [
    {
     "data": {
      "text/plain": [
       "Index(['Session ID', 'User ID', 'Dish Name_x', 'Meal Type_x', 'Session Start',\n",
       "       'Session End', 'Duration (mins)', 'Session Rating', 'Order ID',\n",
       "       'Order_User_ID', 'Order Date', 'Meal Type_y', 'Dish Name_y',\n",
       "       'Order Status', 'Amount (USD)', 'Time of Day', 'Rating', 'User Name',\n",
       "       'Age', 'Location', 'Registration Date', 'Phone', 'Email',\n",
       "       'Favorite Meal', 'Total Orders'],\n",
       "      dtype='object')"
      ]
     },
     "execution_count": 15,
     "metadata": {},
     "output_type": "execute_result"
    }
   ],
   "source": [
    "# visualizing columns for further analysis\n",
    "\n",
    "merged_df.columns"
   ]
  },
  {
   "cell_type": "markdown",
   "id": "7961aa1e-4fe4-40b7-b86c-f71b7b6670e9",
   "metadata": {},
   "source": [
    "### 1.Analyzing the relationship between cooking sessions and user orders"
   ]
  },
  {
   "cell_type": "code",
   "execution_count": 16,
   "id": "7ee0a84a-d6c8-4f55-b068-50c5f7adfc60",
   "metadata": {},
   "outputs": [],
   "source": [
    "# discovering relationship between session and orders\n",
    "session_analysis = merged_df.groupby(\"Session ID\").agg({\n",
    "    \"Duration (mins)\": \"mean\",  \n",
    "    \"Amount (USD)\": \"sum\",      \n",
    "    \"Order_User_ID\": \"count\"   \n",
    "}).reset_index().sort_values(by=\"Duration (mins)\")\n"
   ]
  },
  {
   "cell_type": "code",
   "execution_count": 17,
   "id": "1fedd36a-72d5-4784-bca6-2785feafd762",
   "metadata": {},
   "outputs": [
    {
     "data": {
      "image/png": "[encoded data removed]",
      "text/plain": [
       "<Figure size 400x400 with 1 Axes>"
      ]
     },
     "metadata": {},
     "output_type": "display_data"
    }
   ],
   "source": [
    "plt.figure(figsize=(4, 4))\n",
    "sns.scatterplot(data=session_analysis, x=\"Duration (mins)\", y=\"Amount (USD)\", hue=\"Order_User_ID\", palette=\"viridis\", size=\"Order_User_ID\", sizes=(50, 300), legend=None)\n",
    "\n",
    "# Adding labels and title\n",
    "plt.title('Session Duration vs Total Order Amount', fontsize=16)\n",
    "plt.xlabel('Session Duration (minutes)', fontsize=12)\n",
    "plt.ylabel('Total Amount (USD)', fontsize=12)\n",
    "\n",
    "# Show the plot\n",
    "plt.show()"
   ]
  },
  {
   "cell_type": "markdown",
   "id": "251b4666-71cc-4677-aeb4-25faddace1b3",
   "metadata": {},
   "source": [
    "### "
   ]
  },
  {
   "cell_type": "code",
   "execution_count": 18,
   "id": "4a4b8a1d-65c1-4ccd-8622-2ccc8072a54f",
   "metadata": {},
   "outputs": [
    {
     "data": {
      "image/png": "[encoded data removed]",
      "text/plain": [
       "<Figure size 600x400 with 2 Axes>"
      ]
     },
     "metadata": {},
     "output_type": "display_data"
    }
   ],
   "source": [
    "# Calculating Correlation\n",
    "corr_matrix = session_analysis[[\"Duration (mins)\", \"Amount (USD)\"]].corr()\n",
    "# Extracting correlation value\n",
    "correlation = corr_matrix.loc[\"Duration (mins)\", \"Amount (USD)\"]\n",
    "# Plotting Heatmap\n",
    "plt.figure(figsize=(6,4))\n",
    "sns.heatmap(corr_matrix, annot=True, cmap=\"crest\", fmt=\".2f\", linewidths=0.5)\n",
    "plt.title(\"Correlation Heatmap between Session Duration and Revenue\")\n",
    "plt.show()"
   ]
  },
  {
   "cell_type": "markdown",
   "id": "91a2376c-360c-4d48-994e-1a2e0ef3cea0",
   "metadata": {},
   "source": [
    "INSIGHTS\n",
    "\n",
    "#### Longer sessions (e.g., 40 mins) tend to generate higher revenue, with a moderate positive correlation of 0.645.\n",
    "     -- A 40-minute session (S003) generated $12.5, while a 15-minute session (S005) generated $9.0.\n",
    "     \n",
    "#### Revenue Efficiency: Shorter sessions often have higher revenue per minute. \n",
    "    -- For example, (S005) achieved $0.60 per minute compared to S003 at $0.31 per minute.\n",
    "\n",
    "    -- There may be an opportunity to encourage longer session durations to maximize revenue.\n",
    "    \n",
    "###### Optimize session scheduling by focusing on balancing session duration and dish complexity to maximize revenue efficiency."
   ]
  },
  {
   "cell_type": "markdown",
   "id": "0c5f2a3b-d7dd-409d-8a6c-2e8797ed6ad7",
   "metadata": {},
   "source": [
    "### 2. Identifying Popular Dishes"
   ]
  },
  {
   "cell_type": "code",
   "execution_count": 19,
   "id": "b94cc535-d663-4057-9dca-b1e948e06306",
   "metadata": {},
   "outputs": [],
   "source": [
    "# uncovering popular dishes\n",
    "popular_dishes = merged_df.groupby(\"Dish Name_y\").agg({\n",
    "    \"Order_User_ID\": \"count\",   \n",
    "    \"Amount (USD)\": \"sum\"       \n",
    "}).sort_values(by=\"Order_User_ID\", ascending=False).reset_index()"
   ]
  },
  {
   "cell_type": "code",
   "execution_count": 20,
   "id": "b661fa2c-c80c-4dfe-82ff-c97ee1351be7",
   "metadata": {},
   "outputs": [
    {
     "data": {
      "image/png": "[encoded data removed]",
      "text/plain": [
       "<Figure size 600x400 with 1 Axes>"
      ]
     },
     "metadata": {},
     "output_type": "display_data"
    }
   ],
   "source": [
    "# Plot Most Popular Dishes\n",
    "plt.figure(figsize=(6, 4))\n",
    "sns.barplot(data=popular_dishes, x=\"Order_User_ID\", y=\"Dish Name_y\", palette=\"viridis\", hue=\"Dish Name_y\")\n",
    "plt.title(\"Popular Dishes by Number of Orders\")\n",
    "plt.xlabel(\"Number of Orders\")\n",
    "plt.ylabel(\"Dish Name\")\n",
    "plt.show()"
   ]
  },
  {
   "cell_type": "code",
   "execution_count": 21,
   "id": "209757d5-2fd1-4615-895e-06b96c35b56e",
   "metadata": {},
   "outputs": [],
   "source": [
    "# Analysis of dishes based on ratings\n",
    "dish_rating_analysis = merged_df.groupby(\"Meal Type_y\").agg({\n",
    "    \"Order_User_ID\": \"nunique\",   \n",
    "    \"Amount (USD)\": \"sum\",        \n",
    "    \"Rating\": \"mean\"              \n",
    "}).reset_index().sort_values(by=\"Amount (USD)\", ascending=False)"
   ]
  },
  {
   "cell_type": "code",
   "execution_count": 22,
   "id": "93b25388-e814-41a1-bc51-023a2f099daa",
   "metadata": {},
   "outputs": [
    {
     "data": {
      "image/png": "[encoded data removed]",
      "text/plain": [
       "<Figure size 600x400 with 2 Axes>"
      ]
     },
     "metadata": {},
     "output_type": "display_data"
    }
   ],
   "source": [
    "# Heatmap for visualizing relationships\n",
    "plt.figure(figsize=(6, 4))\n",
    "sns.heatmap(dish_rating_analysis.set_index(\"Meal Type_y\")[[\"Order_User_ID\", \"Amount (USD)\", \"Rating\"]], annot=True, cmap=\"rocket\", fmt=\".2f\")\n",
    "plt.title(\"Heatmap of Meal Type Analysis\")\n",
    "plt.xlabel(\"Metrics\")\n",
    "plt.ylabel(\"Meal Type\")\n",
    "plt.show()"
   ]
  },
  {
   "cell_type": "markdown",
   "id": "299f8ad3-a2b4-4c57-961a-f84fce41dca5",
   "metadata": {},
   "source": [
    "Insights\n",
    "\n",
    "### From this we can see that Spaghetti and Grilled Chicken are the most ordered dishes \n",
    "      -- Spaghetti has generated more revenue when compared to Grilled chicken \n",
    "      -- Grilled chicken is rated as the highest (user satisfaction)  when compared to spaghetti\n",
    "      \n",
    "### Revenue by dishes\n",
    "      -- Spaghetti: Average revenue per session = $13.5\n",
    "    -- Grilled Chicken: Average revenue per session = $12.8\n",
    "      -- Caesar Salad: Average revenue per session = $9.33\n",
    "  \n",
    "### Promote dishes like Spaghetti and Grilled Chicken during longer cooking sessions and upsell to boost revenue.\n",
    "\n",
    "\n",
    "#### Meal Type\n",
    "     -- Dinner orders generate the highest revenue ($106.5) with the best user rating (4.57), indicating a high satisfaction for premium meals. \n",
    "     -- Lunch and breakfast, with moderate revenue and similar ratings (4.00), could benefit from value-oriented offerings and bundling to increase order size and satisfaction. "
   ]
  },
  {
   "cell_type": "markdown",
   "id": "7546ef16-e76e-4d38-af41-8df491f521a8",
   "metadata": {},
   "source": [
    "### 3. Exploring demographic factors that influence user behavior."
   ]
  },
  {
   "cell_type": "code",
   "execution_count": 23,
   "id": "96e166ca-7120-4a43-83e4-2814359ac67e",
   "metadata": {},
   "outputs": [],
   "source": [
    "# Average order amount and rating by location and age\n",
    "demographic_analysis = merged_df.groupby(['Age', 'Location']).agg({\n",
    "    'Amount (USD)': 'mean',        \n",
    "    'Session Rating': 'mean',      \n",
    "    'Order_User_ID': 'count'     \n",
    "}).reset_index()\n"
   ]
  },
  {
   "cell_type": "code",
   "execution_count": 24,
   "id": "1270a200-110c-4ed2-852d-85bc678a0c5c",
   "metadata": {},
   "outputs": [
    {
     "data": {
      "image/png": "[encoded data removed]",
      "text/plain": [
       "<Figure size 600x400 with 2 Axes>"
      ]
     },
     "metadata": {},
     "output_type": "display_data"
    }
   ],
   "source": [
    "# Pivot the data for visualization\n",
    "pivot_data = demographic_analysis.pivot_table(\n",
    "    index='Age', \n",
    "    columns='Location', \n",
    "    values='Amount (USD)', \n",
    "    aggfunc='mean'\n",
    ")\n",
    "\n",
    "# Create a heatmap to visualize the average amount spent by Age and Location\n",
    "plt.figure(figsize=(6, 4))\n",
    "sns.heatmap(pivot_data, annot=True, cmap=\"magma\", fmt=\".2f\", linewidths=0.5)\n",
    "plt.title(\"Average Amount (USD) by Age and Location\")\n",
    "plt.show()"
   ]
  },
  {
   "cell_type": "markdown",
   "id": "0e35cc92-6a8d-4926-9376-794af5173ff1",
   "metadata": {},
   "source": [
    "INSIGHTS \n",
    "\n",
    "#### Demographic Based Ratings\n",
    "        -- Users aged 38 in Boston generated the highest average revenue ($14.00) with a perfect session rating (5.0),\n",
    "            followed by 25-year-olds in   Austin ($13.00 and a 4.8 rating).\n",
    "        -- Younger users (25–30 years) showed higher engagement in cities like New York and Austin, while older users (38 years) demonstrated premium spending behavior in Boston."
   ]
  },
  {
   "cell_type": "code",
   "execution_count": 25,
   "id": "7d49c10f-f607-43c2-9bce-5bae9091d618",
   "metadata": {},
   "outputs": [
    {
     "name": "stdout",
     "output_type": "stream",
     "text": [
      "\n",
      "=== Insights ===\n",
      "\n",
      "1. Correlation between session duration and revenue: 0.65\n",
      "\n",
      "2. Top 5 popular dishes by number of orders:\n",
      "       Dish Name_y  Order_User_ID  Amount (USD)\n",
      "0  Grilled Chicken              4          51.0\n",
      "1        Spaghetti              4          55.5\n",
      "2     Caesar Salad              3          28.0\n",
      "3         Pancakes              2          16.5\n",
      "4    Veggie Burger              2          22.0\n",
      "\n",
      "3.(i) Locations with the highest average revenue:\n",
      "   Age       Location  Amount (USD)  Session Rating  Order_User_ID\n",
      "0   25         Austin     13.000000        4.800000              1\n",
      "1   27  San Francisco     10.750000        4.700000              2\n",
      "2   28       New York     11.666667        4.533333              3\n",
      "3   30        Seattle     11.250000        4.500000              2\n",
      "4   31          Miami     11.000000        4.300000              1\n"
     ]
    }
   ],
   "source": [
    "# 5. Insights and Recommendations\n",
    "print(\"\\n=== Insights ===\")\n",
    "print()\n",
    "print(f\"1. Correlation between session duration and revenue: {correlation:.2f}\")\n",
    "print()\n",
    "print(\"2. Top 5 popular dishes by number of orders:\")\n",
    "print(popular_dishes.head(5))\n",
    "print()\n",
    "print(\"3.(i) Locations with the highest average revenue:\")\n",
    "print(demographic_analysis.head(5))\n"
   ]
  },
  {
   "cell_type": "code",
   "execution_count": 26,
   "id": "56b53675-9fa4-4824-a7bb-07a669af3465",
   "metadata": {},
   "outputs": [
    {
     "name": "stdout",
     "output_type": "stream",
     "text": [
      "\n",
      "=== Recommendations ===\n",
      "1. Focus on promoting dishes like those (Spaghetti, Grilled chicken) in the top popular dishes list.\n",
      "2. Analyze sessions with higher revenue efficiency to optimize cooking durations.\n",
      "3. Focus on promoting premium services in Boston for older users and enhancing engagement activities for younger demographics in vibrant cities like Austin and New York.\n"
     ]
    }
   ],
   "source": [
    "# Recommendations\n",
    "print(\"\\n=== Recommendations ===\")\n",
    "print(\"1. Focus on promoting dishes like those (Spaghetti, Grilled chicken) in the top popular dishes list.\")\n",
    "print(\"2. Analyze sessions with higher revenue efficiency to optimize cooking durations.\")\n",
    "print(\"3. Focus on promoting premium services in Boston for older users and enhancing engagement activities for younger demographics in vibrant cities like Austin and New York.\")"
   ]
  }
 ],
 "metadata": {
  "kernelspec": {
   "display_name": "Python 3 (ipykernel)",
   "language": "python",
   "name": "python3"
  },
  "language_info": {
   "codemirror_mode": {
    "name": "ipython",
    "version": 3
   },
   "file_extension": ".py",
   "mimetype": "text/x-python",
   "name": "python",
   "nbconvert_exporter": "python",
   "pygments_lexer": "ipython3",
   "version": "3.10.11"
  }
 },
 "nbformat": 4,
 "nbformat_minor": 5
}
